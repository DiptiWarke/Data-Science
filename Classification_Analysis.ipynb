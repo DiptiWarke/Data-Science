{
 "cells": [
  {
   "cell_type": "code",
   "execution_count": 47,
   "metadata": {},
   "outputs": [],
   "source": [
    "import pandas as pd\n",
    "import numpy as np\n",
    "import matplotlib.pyplot as plt\n",
    "from sklearn import preprocessing\n",
    "from sklearn.model_selection import train_test_split\n",
    "from sklearn.preprocessing import MinMaxScaler\n",
    "from sklearn.linear_model import LogisticRegression\n",
    "from sklearn.metrics import accuracy_score, confusion_matrix, classification_report, cohen_kappa_score as kappa, precision_recall_curve\n",
    "from sklearn.tree import DecisionTreeClassifier\n",
    "from sklearn.ensemble import RandomForestClassifier\n",
    "from imblearn import over_sampling, under_sampling\n",
    "from imblearn.over_sampling import SMOTE\n"
   ]
  },
  {
   "cell_type": "code",
   "execution_count": 2,
   "metadata": {},
   "outputs": [
    {
     "data": {
      "text/html": [
       "<div>\n",
       "<style scoped>\n",
       "    .dataframe tbody tr th:only-of-type {\n",
       "        vertical-align: middle;\n",
       "    }\n",
       "\n",
       "    .dataframe tbody tr th {\n",
       "        vertical-align: top;\n",
       "    }\n",
       "\n",
       "    .dataframe thead th {\n",
       "        text-align: right;\n",
       "    }\n",
       "</style>\n",
       "<table border=\"1\" class=\"dataframe\">\n",
       "  <thead>\n",
       "    <tr style=\"text-align: right;\">\n",
       "      <th></th>\n",
       "      <th>Customer Subtype</th>\n",
       "      <th>Number of houses</th>\n",
       "      <th>vg size household</th>\n",
       "      <th>Avg age</th>\n",
       "      <th>Customer main type</th>\n",
       "      <th>Roman catholic</th>\n",
       "      <th>Protestant</th>\n",
       "      <th>Other religion</th>\n",
       "      <th>No religion</th>\n",
       "      <th>Married</th>\n",
       "      <th>...</th>\n",
       "      <th>Number of private accident insurance policies</th>\n",
       "      <th>Number of family accidents insurance policies</th>\n",
       "      <th>Number of disability insurance policies</th>\n",
       "      <th>Number of fire policies</th>\n",
       "      <th>Number of surfboard policies</th>\n",
       "      <th>Number of boat policies</th>\n",
       "      <th>Number of bicycle policies</th>\n",
       "      <th>Number of property insurance policies</th>\n",
       "      <th>Number of social security insurance policies</th>\n",
       "      <th>Number of mobile home policies</th>\n",
       "    </tr>\n",
       "  </thead>\n",
       "  <tbody>\n",
       "    <tr>\n",
       "      <th>0</th>\n",
       "      <td>33</td>\n",
       "      <td>1</td>\n",
       "      <td>3</td>\n",
       "      <td>2</td>\n",
       "      <td>8</td>\n",
       "      <td>0</td>\n",
       "      <td>5</td>\n",
       "      <td>1</td>\n",
       "      <td>3</td>\n",
       "      <td>7</td>\n",
       "      <td>...</td>\n",
       "      <td>0</td>\n",
       "      <td>0</td>\n",
       "      <td>0</td>\n",
       "      <td>1</td>\n",
       "      <td>0</td>\n",
       "      <td>0</td>\n",
       "      <td>0</td>\n",
       "      <td>0</td>\n",
       "      <td>0</td>\n",
       "      <td>0</td>\n",
       "    </tr>\n",
       "    <tr>\n",
       "      <th>1</th>\n",
       "      <td>37</td>\n",
       "      <td>1</td>\n",
       "      <td>2</td>\n",
       "      <td>2</td>\n",
       "      <td>8</td>\n",
       "      <td>1</td>\n",
       "      <td>4</td>\n",
       "      <td>1</td>\n",
       "      <td>4</td>\n",
       "      <td>6</td>\n",
       "      <td>...</td>\n",
       "      <td>0</td>\n",
       "      <td>0</td>\n",
       "      <td>0</td>\n",
       "      <td>1</td>\n",
       "      <td>0</td>\n",
       "      <td>0</td>\n",
       "      <td>0</td>\n",
       "      <td>0</td>\n",
       "      <td>0</td>\n",
       "      <td>0</td>\n",
       "    </tr>\n",
       "    <tr>\n",
       "      <th>2</th>\n",
       "      <td>37</td>\n",
       "      <td>1</td>\n",
       "      <td>2</td>\n",
       "      <td>2</td>\n",
       "      <td>8</td>\n",
       "      <td>0</td>\n",
       "      <td>4</td>\n",
       "      <td>2</td>\n",
       "      <td>4</td>\n",
       "      <td>3</td>\n",
       "      <td>...</td>\n",
       "      <td>0</td>\n",
       "      <td>0</td>\n",
       "      <td>0</td>\n",
       "      <td>1</td>\n",
       "      <td>0</td>\n",
       "      <td>0</td>\n",
       "      <td>0</td>\n",
       "      <td>0</td>\n",
       "      <td>0</td>\n",
       "      <td>0</td>\n",
       "    </tr>\n",
       "    <tr>\n",
       "      <th>3</th>\n",
       "      <td>9</td>\n",
       "      <td>1</td>\n",
       "      <td>3</td>\n",
       "      <td>3</td>\n",
       "      <td>3</td>\n",
       "      <td>2</td>\n",
       "      <td>3</td>\n",
       "      <td>2</td>\n",
       "      <td>4</td>\n",
       "      <td>5</td>\n",
       "      <td>...</td>\n",
       "      <td>0</td>\n",
       "      <td>0</td>\n",
       "      <td>0</td>\n",
       "      <td>1</td>\n",
       "      <td>0</td>\n",
       "      <td>0</td>\n",
       "      <td>0</td>\n",
       "      <td>0</td>\n",
       "      <td>0</td>\n",
       "      <td>0</td>\n",
       "    </tr>\n",
       "    <tr>\n",
       "      <th>4</th>\n",
       "      <td>40</td>\n",
       "      <td>1</td>\n",
       "      <td>4</td>\n",
       "      <td>2</td>\n",
       "      <td>10</td>\n",
       "      <td>1</td>\n",
       "      <td>4</td>\n",
       "      <td>1</td>\n",
       "      <td>4</td>\n",
       "      <td>7</td>\n",
       "      <td>...</td>\n",
       "      <td>0</td>\n",
       "      <td>0</td>\n",
       "      <td>0</td>\n",
       "      <td>1</td>\n",
       "      <td>0</td>\n",
       "      <td>0</td>\n",
       "      <td>0</td>\n",
       "      <td>0</td>\n",
       "      <td>0</td>\n",
       "      <td>0</td>\n",
       "    </tr>\n",
       "  </tbody>\n",
       "</table>\n",
       "<p>5 rows × 86 columns</p>\n",
       "</div>"
      ],
      "text/plain": [
       "   Customer Subtype  Number of houses  vg size household  Avg age  \\\n",
       "0                33                 1                  3        2   \n",
       "1                37                 1                  2        2   \n",
       "2                37                 1                  2        2   \n",
       "3                 9                 1                  3        3   \n",
       "4                40                 1                  4        2   \n",
       "\n",
       "   Customer main type  Roman catholic  Protestant  Other religion  \\\n",
       "0                   8               0           5               1   \n",
       "1                   8               1           4               1   \n",
       "2                   8               0           4               2   \n",
       "3                   3               2           3               2   \n",
       "4                  10               1           4               1   \n",
       "\n",
       "   No religion  Married  ...  Number of private accident insurance policies  \\\n",
       "0            3        7  ...                                              0   \n",
       "1            4        6  ...                                              0   \n",
       "2            4        3  ...                                              0   \n",
       "3            4        5  ...                                              0   \n",
       "4            4        7  ...                                              0   \n",
       "\n",
       "   Number of family accidents insurance policies  \\\n",
       "0                                              0   \n",
       "1                                              0   \n",
       "2                                              0   \n",
       "3                                              0   \n",
       "4                                              0   \n",
       "\n",
       "   Number of disability insurance policies  Number of fire policies  \\\n",
       "0                                        0                        1   \n",
       "1                                        0                        1   \n",
       "2                                        0                        1   \n",
       "3                                        0                        1   \n",
       "4                                        0                        1   \n",
       "\n",
       "   Number of surfboard policies  Number of boat policies  \\\n",
       "0                             0                        0   \n",
       "1                             0                        0   \n",
       "2                             0                        0   \n",
       "3                             0                        0   \n",
       "4                             0                        0   \n",
       "\n",
       "   Number of bicycle policies  Number of property insurance policies  \\\n",
       "0                           0                                      0   \n",
       "1                           0                                      0   \n",
       "2                           0                                      0   \n",
       "3                           0                                      0   \n",
       "4                           0                                      0   \n",
       "\n",
       "   Number of social security insurance policies  \\\n",
       "0                                             0   \n",
       "1                                             0   \n",
       "2                                             0   \n",
       "3                                             0   \n",
       "4                                             0   \n",
       "\n",
       "   Number of mobile home policies  \n",
       "0                               0  \n",
       "1                               0  \n",
       "2                               0  \n",
       "3                               0  \n",
       "4                               0  \n",
       "\n",
       "[5 rows x 86 columns]"
      ]
     },
     "execution_count": 2,
     "metadata": {},
     "output_type": "execute_result"
    }
   ],
   "source": [
    "carvana = pd.read_csv(\"E:\\Dipti\\python\\Caravan Insurance Claim Prediction\\caravan_insurance.csv\")\n",
    "carvana.head()"
   ]
  },
  {
   "cell_type": "code",
   "execution_count": 3,
   "metadata": {},
   "outputs": [
    {
     "data": {
      "text/plain": [
       "(5822, 86)"
      ]
     },
     "execution_count": 3,
     "metadata": {},
     "output_type": "execute_result"
    }
   ],
   "source": [
    "carvana.shape"
   ]
  },
  {
   "cell_type": "code",
   "execution_count": 4,
   "metadata": {},
   "outputs": [
    {
     "data": {
      "text/plain": [
       "Customer Subtype                                    0\n",
       "Number of houses                                    0\n",
       "vg size household                                   0\n",
       "Avg age                                             0\n",
       "Customer main type                                  0\n",
       "Roman catholic                                      0\n",
       "Protestant                                          0\n",
       "Other religion                                      0\n",
       "No religion                                         0\n",
       "Married                                             0\n",
       "Living together                                     0\n",
       "Other relation                                      0\n",
       "Singles                                             0\n",
       "Household without children                          0\n",
       "Household with children                             0\n",
       "High level education                                0\n",
       "Medium level education                              0\n",
       "Lower level education                               0\n",
       "High status                                         0\n",
       "Entrepreneur                                        0\n",
       "Farmer                                              0\n",
       "Middle management                                   0\n",
       "Skilled labourers                                   0\n",
       "Unskilled labourers                                 0\n",
       "Social class A                                      0\n",
       "Social class B1                                     0\n",
       "Social class B2                                     0\n",
       "Social class C                                      0\n",
       "Social class D                                      0\n",
       "Rented house                                        0\n",
       "                                                   ..\n",
       "Contribution family accidents insurance policies    0\n",
       "Contribution disability insurance policies          0\n",
       "Contribution fire policies                          0\n",
       "Contribution surfboard policies                     0\n",
       "Contribution boat policies                          0\n",
       "Contribution bicycle policies                       0\n",
       "Contribution property insurance policies            0\n",
       "Contribution social security insurance policies     0\n",
       "Number of private third party insurance             0\n",
       "Number of third party insurance (firms)             0\n",
       "Number of third party insurane (agriculture)        0\n",
       "Number of car policies                              0\n",
       "Number of delivery van policies                     0\n",
       "Number of motorcycle/scooter policies               0\n",
       "Number of lorry policies                            0\n",
       "Number of trailer policies                          0\n",
       "Number of tractor policies                          0\n",
       "Number of agricultural machines policies            0\n",
       "Number of moped policies                            0\n",
       "Number of life insurances                           0\n",
       "Number of private accident insurance policies       0\n",
       "Number of family accidents insurance policies       0\n",
       "Number of disability insurance policies             0\n",
       "Number of fire policies                             0\n",
       "Number of surfboard policies                        0\n",
       "Number of boat policies                             0\n",
       "Number of bicycle policies                          0\n",
       "Number of property insurance policies               0\n",
       "Number of social security insurance policies        0\n",
       "Number of mobile home policies                      0\n",
       "Length: 86, dtype: int64"
      ]
     },
     "execution_count": 4,
     "metadata": {},
     "output_type": "execute_result"
    }
   ],
   "source": [
    "carvana.isnull().sum()"
   ]
  },
  {
   "cell_type": "raw",
   "metadata": {},
   "source": []
  },
  {
   "cell_type": "code",
   "execution_count": 5,
   "metadata": {},
   "outputs": [
    {
     "data": {
      "text/plain": [
       "Customer Subtype                                    int64\n",
       "Number of houses                                    int64\n",
       "vg size household                                   int64\n",
       "Avg age                                             int64\n",
       "Customer main type                                  int64\n",
       "Roman catholic                                      int64\n",
       "Protestant                                          int64\n",
       "Other religion                                      int64\n",
       "No religion                                         int64\n",
       "Married                                             int64\n",
       "Living together                                     int64\n",
       "Other relation                                      int64\n",
       "Singles                                             int64\n",
       "Household without children                          int64\n",
       "Household with children                             int64\n",
       "High level education                                int64\n",
       "Medium level education                              int64\n",
       "Lower level education                               int64\n",
       "High status                                         int64\n",
       "Entrepreneur                                        int64\n",
       "Farmer                                              int64\n",
       "Middle management                                   int64\n",
       "Skilled labourers                                   int64\n",
       "Unskilled labourers                                 int64\n",
       "Social class A                                      int64\n",
       "Social class B1                                     int64\n",
       "Social class B2                                     int64\n",
       "Social class C                                      int64\n",
       "Social class D                                      int64\n",
       "Rented house                                        int64\n",
       "                                                    ...  \n",
       "Contribution family accidents insurance policies    int64\n",
       "Contribution disability insurance policies          int64\n",
       "Contribution fire policies                          int64\n",
       "Contribution surfboard policies                     int64\n",
       "Contribution boat policies                          int64\n",
       "Contribution bicycle policies                       int64\n",
       "Contribution property insurance policies            int64\n",
       "Contribution social security insurance policies     int64\n",
       "Number of private third party insurance             int64\n",
       "Number of third party insurance (firms)             int64\n",
       "Number of third party insurane (agriculture)        int64\n",
       "Number of car policies                              int64\n",
       "Number of delivery van policies                     int64\n",
       "Number of motorcycle/scooter policies               int64\n",
       "Number of lorry policies                            int64\n",
       "Number of trailer policies                          int64\n",
       "Number of tractor policies                          int64\n",
       "Number of agricultural machines policies            int64\n",
       "Number of moped policies                            int64\n",
       "Number of life insurances                           int64\n",
       "Number of private accident insurance policies       int64\n",
       "Number of family accidents insurance policies       int64\n",
       "Number of disability insurance policies             int64\n",
       "Number of fire policies                             int64\n",
       "Number of surfboard policies                        int64\n",
       "Number of boat policies                             int64\n",
       "Number of bicycle policies                          int64\n",
       "Number of property insurance policies               int64\n",
       "Number of social security insurance policies        int64\n",
       "Number of mobile home policies                      int64\n",
       "Length: 86, dtype: object"
      ]
     },
     "execution_count": 5,
     "metadata": {},
     "output_type": "execute_result"
    }
   ],
   "source": [
    "carvana.dtypes"
   ]
  },
  {
   "cell_type": "code",
   "execution_count": 6,
   "metadata": {},
   "outputs": [
    {
     "data": {
      "text/html": [
       "<div>\n",
       "<style scoped>\n",
       "    .dataframe tbody tr th:only-of-type {\n",
       "        vertical-align: middle;\n",
       "    }\n",
       "\n",
       "    .dataframe tbody tr th {\n",
       "        vertical-align: top;\n",
       "    }\n",
       "\n",
       "    .dataframe thead th {\n",
       "        text-align: right;\n",
       "    }\n",
       "</style>\n",
       "<table border=\"1\" class=\"dataframe\">\n",
       "  <thead>\n",
       "    <tr style=\"text-align: right;\">\n",
       "      <th></th>\n",
       "      <th>Customer Subtype</th>\n",
       "      <th>Number of houses</th>\n",
       "      <th>vg size household</th>\n",
       "      <th>Avg age</th>\n",
       "      <th>Customer main type</th>\n",
       "      <th>Roman catholic</th>\n",
       "      <th>Protestant</th>\n",
       "      <th>Other religion</th>\n",
       "      <th>No religion</th>\n",
       "      <th>Married</th>\n",
       "      <th>...</th>\n",
       "      <th>Number of private accident insurance policies</th>\n",
       "      <th>Number of family accidents insurance policies</th>\n",
       "      <th>Number of disability insurance policies</th>\n",
       "      <th>Number of fire policies</th>\n",
       "      <th>Number of surfboard policies</th>\n",
       "      <th>Number of boat policies</th>\n",
       "      <th>Number of bicycle policies</th>\n",
       "      <th>Number of property insurance policies</th>\n",
       "      <th>Number of social security insurance policies</th>\n",
       "      <th>Number of mobile home policies</th>\n",
       "    </tr>\n",
       "  </thead>\n",
       "  <tbody>\n",
       "    <tr>\n",
       "      <th>count</th>\n",
       "      <td>5822.000000</td>\n",
       "      <td>5822.000000</td>\n",
       "      <td>5822.000000</td>\n",
       "      <td>5822.000000</td>\n",
       "      <td>5822.000000</td>\n",
       "      <td>5822.000000</td>\n",
       "      <td>5822.000000</td>\n",
       "      <td>5822.000000</td>\n",
       "      <td>5822.000000</td>\n",
       "      <td>5822.000000</td>\n",
       "      <td>...</td>\n",
       "      <td>5822.000000</td>\n",
       "      <td>5822.000000</td>\n",
       "      <td>5822.000000</td>\n",
       "      <td>5822.000000</td>\n",
       "      <td>5822.000000</td>\n",
       "      <td>5822.000000</td>\n",
       "      <td>5822.000000</td>\n",
       "      <td>5822.000000</td>\n",
       "      <td>5822.000000</td>\n",
       "      <td>5822.000000</td>\n",
       "    </tr>\n",
       "    <tr>\n",
       "      <th>mean</th>\n",
       "      <td>24.253349</td>\n",
       "      <td>1.110615</td>\n",
       "      <td>2.678805</td>\n",
       "      <td>2.991240</td>\n",
       "      <td>5.773617</td>\n",
       "      <td>0.696496</td>\n",
       "      <td>4.626932</td>\n",
       "      <td>1.069907</td>\n",
       "      <td>3.258502</td>\n",
       "      <td>6.183442</td>\n",
       "      <td>...</td>\n",
       "      <td>0.005325</td>\n",
       "      <td>0.006527</td>\n",
       "      <td>0.004638</td>\n",
       "      <td>0.570079</td>\n",
       "      <td>0.000515</td>\n",
       "      <td>0.006012</td>\n",
       "      <td>0.031776</td>\n",
       "      <td>0.007901</td>\n",
       "      <td>0.014256</td>\n",
       "      <td>0.059773</td>\n",
       "    </tr>\n",
       "    <tr>\n",
       "      <th>std</th>\n",
       "      <td>12.846706</td>\n",
       "      <td>0.405842</td>\n",
       "      <td>0.789835</td>\n",
       "      <td>0.814589</td>\n",
       "      <td>2.856760</td>\n",
       "      <td>1.003234</td>\n",
       "      <td>1.715843</td>\n",
       "      <td>1.017503</td>\n",
       "      <td>1.597647</td>\n",
       "      <td>1.909482</td>\n",
       "      <td>...</td>\n",
       "      <td>0.072782</td>\n",
       "      <td>0.080532</td>\n",
       "      <td>0.077403</td>\n",
       "      <td>0.562058</td>\n",
       "      <td>0.022696</td>\n",
       "      <td>0.081632</td>\n",
       "      <td>0.210986</td>\n",
       "      <td>0.090463</td>\n",
       "      <td>0.119996</td>\n",
       "      <td>0.237087</td>\n",
       "    </tr>\n",
       "    <tr>\n",
       "      <th>min</th>\n",
       "      <td>1.000000</td>\n",
       "      <td>1.000000</td>\n",
       "      <td>1.000000</td>\n",
       "      <td>1.000000</td>\n",
       "      <td>1.000000</td>\n",
       "      <td>0.000000</td>\n",
       "      <td>0.000000</td>\n",
       "      <td>0.000000</td>\n",
       "      <td>0.000000</td>\n",
       "      <td>0.000000</td>\n",
       "      <td>...</td>\n",
       "      <td>0.000000</td>\n",
       "      <td>0.000000</td>\n",
       "      <td>0.000000</td>\n",
       "      <td>0.000000</td>\n",
       "      <td>0.000000</td>\n",
       "      <td>0.000000</td>\n",
       "      <td>0.000000</td>\n",
       "      <td>0.000000</td>\n",
       "      <td>0.000000</td>\n",
       "      <td>0.000000</td>\n",
       "    </tr>\n",
       "    <tr>\n",
       "      <th>25%</th>\n",
       "      <td>10.000000</td>\n",
       "      <td>1.000000</td>\n",
       "      <td>2.000000</td>\n",
       "      <td>2.000000</td>\n",
       "      <td>3.000000</td>\n",
       "      <td>0.000000</td>\n",
       "      <td>4.000000</td>\n",
       "      <td>0.000000</td>\n",
       "      <td>2.000000</td>\n",
       "      <td>5.000000</td>\n",
       "      <td>...</td>\n",
       "      <td>0.000000</td>\n",
       "      <td>0.000000</td>\n",
       "      <td>0.000000</td>\n",
       "      <td>0.000000</td>\n",
       "      <td>0.000000</td>\n",
       "      <td>0.000000</td>\n",
       "      <td>0.000000</td>\n",
       "      <td>0.000000</td>\n",
       "      <td>0.000000</td>\n",
       "      <td>0.000000</td>\n",
       "    </tr>\n",
       "    <tr>\n",
       "      <th>50%</th>\n",
       "      <td>30.000000</td>\n",
       "      <td>1.000000</td>\n",
       "      <td>3.000000</td>\n",
       "      <td>3.000000</td>\n",
       "      <td>7.000000</td>\n",
       "      <td>0.000000</td>\n",
       "      <td>5.000000</td>\n",
       "      <td>1.000000</td>\n",
       "      <td>3.000000</td>\n",
       "      <td>6.000000</td>\n",
       "      <td>...</td>\n",
       "      <td>0.000000</td>\n",
       "      <td>0.000000</td>\n",
       "      <td>0.000000</td>\n",
       "      <td>1.000000</td>\n",
       "      <td>0.000000</td>\n",
       "      <td>0.000000</td>\n",
       "      <td>0.000000</td>\n",
       "      <td>0.000000</td>\n",
       "      <td>0.000000</td>\n",
       "      <td>0.000000</td>\n",
       "    </tr>\n",
       "    <tr>\n",
       "      <th>75%</th>\n",
       "      <td>35.000000</td>\n",
       "      <td>1.000000</td>\n",
       "      <td>3.000000</td>\n",
       "      <td>3.000000</td>\n",
       "      <td>8.000000</td>\n",
       "      <td>1.000000</td>\n",
       "      <td>6.000000</td>\n",
       "      <td>2.000000</td>\n",
       "      <td>4.000000</td>\n",
       "      <td>7.000000</td>\n",
       "      <td>...</td>\n",
       "      <td>0.000000</td>\n",
       "      <td>0.000000</td>\n",
       "      <td>0.000000</td>\n",
       "      <td>1.000000</td>\n",
       "      <td>0.000000</td>\n",
       "      <td>0.000000</td>\n",
       "      <td>0.000000</td>\n",
       "      <td>0.000000</td>\n",
       "      <td>0.000000</td>\n",
       "      <td>0.000000</td>\n",
       "    </tr>\n",
       "    <tr>\n",
       "      <th>max</th>\n",
       "      <td>41.000000</td>\n",
       "      <td>10.000000</td>\n",
       "      <td>5.000000</td>\n",
       "      <td>6.000000</td>\n",
       "      <td>10.000000</td>\n",
       "      <td>9.000000</td>\n",
       "      <td>9.000000</td>\n",
       "      <td>5.000000</td>\n",
       "      <td>9.000000</td>\n",
       "      <td>9.000000</td>\n",
       "      <td>...</td>\n",
       "      <td>1.000000</td>\n",
       "      <td>1.000000</td>\n",
       "      <td>2.000000</td>\n",
       "      <td>7.000000</td>\n",
       "      <td>1.000000</td>\n",
       "      <td>2.000000</td>\n",
       "      <td>3.000000</td>\n",
       "      <td>2.000000</td>\n",
       "      <td>2.000000</td>\n",
       "      <td>1.000000</td>\n",
       "    </tr>\n",
       "  </tbody>\n",
       "</table>\n",
       "<p>8 rows × 86 columns</p>\n",
       "</div>"
      ],
      "text/plain": [
       "       Customer Subtype  Number of houses  vg size household      Avg age  \\\n",
       "count       5822.000000       5822.000000        5822.000000  5822.000000   \n",
       "mean          24.253349          1.110615           2.678805     2.991240   \n",
       "std           12.846706          0.405842           0.789835     0.814589   \n",
       "min            1.000000          1.000000           1.000000     1.000000   \n",
       "25%           10.000000          1.000000           2.000000     2.000000   \n",
       "50%           30.000000          1.000000           3.000000     3.000000   \n",
       "75%           35.000000          1.000000           3.000000     3.000000   \n",
       "max           41.000000         10.000000           5.000000     6.000000   \n",
       "\n",
       "       Customer main type  Roman catholic   Protestant  Other religion  \\\n",
       "count         5822.000000     5822.000000  5822.000000     5822.000000   \n",
       "mean             5.773617        0.696496     4.626932        1.069907   \n",
       "std              2.856760        1.003234     1.715843        1.017503   \n",
       "min              1.000000        0.000000     0.000000        0.000000   \n",
       "25%              3.000000        0.000000     4.000000        0.000000   \n",
       "50%              7.000000        0.000000     5.000000        1.000000   \n",
       "75%              8.000000        1.000000     6.000000        2.000000   \n",
       "max             10.000000        9.000000     9.000000        5.000000   \n",
       "\n",
       "       No religion      Married  ...  \\\n",
       "count  5822.000000  5822.000000  ...   \n",
       "mean      3.258502     6.183442  ...   \n",
       "std       1.597647     1.909482  ...   \n",
       "min       0.000000     0.000000  ...   \n",
       "25%       2.000000     5.000000  ...   \n",
       "50%       3.000000     6.000000  ...   \n",
       "75%       4.000000     7.000000  ...   \n",
       "max       9.000000     9.000000  ...   \n",
       "\n",
       "       Number of private accident insurance policies  \\\n",
       "count                                    5822.000000   \n",
       "mean                                        0.005325   \n",
       "std                                         0.072782   \n",
       "min                                         0.000000   \n",
       "25%                                         0.000000   \n",
       "50%                                         0.000000   \n",
       "75%                                         0.000000   \n",
       "max                                         1.000000   \n",
       "\n",
       "       Number of family accidents insurance policies  \\\n",
       "count                                    5822.000000   \n",
       "mean                                        0.006527   \n",
       "std                                         0.080532   \n",
       "min                                         0.000000   \n",
       "25%                                         0.000000   \n",
       "50%                                         0.000000   \n",
       "75%                                         0.000000   \n",
       "max                                         1.000000   \n",
       "\n",
       "       Number of disability insurance policies  Number of fire policies  \\\n",
       "count                              5822.000000              5822.000000   \n",
       "mean                                  0.004638                 0.570079   \n",
       "std                                   0.077403                 0.562058   \n",
       "min                                   0.000000                 0.000000   \n",
       "25%                                   0.000000                 0.000000   \n",
       "50%                                   0.000000                 1.000000   \n",
       "75%                                   0.000000                 1.000000   \n",
       "max                                   2.000000                 7.000000   \n",
       "\n",
       "       Number of surfboard policies  Number of boat policies  \\\n",
       "count                   5822.000000              5822.000000   \n",
       "mean                       0.000515                 0.006012   \n",
       "std                        0.022696                 0.081632   \n",
       "min                        0.000000                 0.000000   \n",
       "25%                        0.000000                 0.000000   \n",
       "50%                        0.000000                 0.000000   \n",
       "75%                        0.000000                 0.000000   \n",
       "max                        1.000000                 2.000000   \n",
       "\n",
       "       Number of bicycle policies  Number of property insurance policies  \\\n",
       "count                 5822.000000                            5822.000000   \n",
       "mean                     0.031776                               0.007901   \n",
       "std                      0.210986                               0.090463   \n",
       "min                      0.000000                               0.000000   \n",
       "25%                      0.000000                               0.000000   \n",
       "50%                      0.000000                               0.000000   \n",
       "75%                      0.000000                               0.000000   \n",
       "max                      3.000000                               2.000000   \n",
       "\n",
       "       Number of social security insurance policies  \\\n",
       "count                                   5822.000000   \n",
       "mean                                       0.014256   \n",
       "std                                        0.119996   \n",
       "min                                        0.000000   \n",
       "25%                                        0.000000   \n",
       "50%                                        0.000000   \n",
       "75%                                        0.000000   \n",
       "max                                        2.000000   \n",
       "\n",
       "       Number of mobile home policies  \n",
       "count                     5822.000000  \n",
       "mean                         0.059773  \n",
       "std                          0.237087  \n",
       "min                          0.000000  \n",
       "25%                          0.000000  \n",
       "50%                          0.000000  \n",
       "75%                          0.000000  \n",
       "max                          1.000000  \n",
       "\n",
       "[8 rows x 86 columns]"
      ]
     },
     "execution_count": 6,
     "metadata": {},
     "output_type": "execute_result"
    }
   ],
   "source": [
    "carvana.describe()"
   ]
  },
  {
   "cell_type": "code",
   "execution_count": 7,
   "metadata": {},
   "outputs": [
    {
     "data": {
      "text/plain": [
       "Index(['Customer Subtype', 'Number of houses', 'vg size household', 'Avg age',\n",
       "       'Customer main type', 'Roman catholic', 'Protestant', 'Other religion',\n",
       "       'No religion', 'Married', 'Living together', 'Other relation',\n",
       "       'Singles', 'Household without children', 'Household with children',\n",
       "       'High level education', 'Medium level education',\n",
       "       'Lower level education', 'High status', 'Entrepreneur', 'Farmer',\n",
       "       'Middle management', 'Skilled labourers', 'Unskilled labourers',\n",
       "       'Social class A', 'Social class B1', 'Social class B2',\n",
       "       'Social class C', 'Social class D', 'Rented house', 'Home owners',\n",
       "       'car', 'cars', 'No car', 'National Health Service',\n",
       "       'Private Health Service', 'Income < 30.000', 'Income 30-45.000',\n",
       "       'Income 45-75.000', 'Income 75-122.000', 'Income >123.000',\n",
       "       'Average income', 'Purchasing power class',\n",
       "       'Contribution private third party insurance',\n",
       "       'Contribution third party insurance (firms)',\n",
       "       'Contribution third party insurane (agriculture)',\n",
       "       'Contribution car policies', 'Contribution delivery van policies',\n",
       "       'Contribution motorcycle/scooter policies',\n",
       "       'Contribution lorry policies', 'Contribution trailer policies',\n",
       "       'Contribution tractor policies',\n",
       "       'Contribution agricultural machines policies ',\n",
       "       'Contribution moped policies', 'Contribution life insurances',\n",
       "       'Contribution private accident insurance policies',\n",
       "       'Contribution family accidents insurance policies',\n",
       "       'Contribution disability insurance policies',\n",
       "       'Contribution fire policies', 'Contribution surfboard policies',\n",
       "       'Contribution boat policies', 'Contribution bicycle policies',\n",
       "       'Contribution property insurance policies',\n",
       "       'Contribution social security insurance policies',\n",
       "       'Number of private third party insurance',\n",
       "       'Number of third party insurance (firms) ',\n",
       "       'Number of third party insurane (agriculture)',\n",
       "       'Number of car policies', 'Number of delivery van policies',\n",
       "       'Number of motorcycle/scooter policies', 'Number of lorry policies',\n",
       "       'Number of trailer policies', 'Number of tractor policies',\n",
       "       'Number of agricultural machines policies', 'Number of moped policies',\n",
       "       'Number of life insurances',\n",
       "       'Number of private accident insurance policies',\n",
       "       'Number of family accidents insurance policies',\n",
       "       'Number of disability insurance policies', 'Number of fire policies',\n",
       "       'Number of surfboard policies', 'Number of boat policies',\n",
       "       'Number of bicycle policies', 'Number of property insurance policies',\n",
       "       'Number of social security insurance policies',\n",
       "       'Number of mobile home policies'],\n",
       "      dtype='object')"
      ]
     },
     "execution_count": 7,
     "metadata": {},
     "output_type": "execute_result"
    }
   ],
   "source": [
    "carvana.columns"
   ]
  },
  {
   "cell_type": "code",
   "execution_count": 8,
   "metadata": {},
   "outputs": [],
   "source": [
    "features = ['Customer Subtype', 'Number of houses', 'vg size household', 'Avg age',\n",
    "       'Customer main type', 'Roman catholic', 'Protestant', 'Other religion',\n",
    "       'No religion', 'Married', 'Living together', 'Other relation',\n",
    "       'Singles', 'Household without children', 'Household with children',\n",
    "       'High level education', 'Medium level education',\n",
    "       'Lower level education', 'High status', 'Entrepreneur', 'Farmer',\n",
    "       'Middle management', 'Skilled labourers', 'Unskilled labourers',\n",
    "       'Social class A', 'Social class B1', 'Social class B2',\n",
    "       'Social class C', 'Social class D', 'Rented house', 'Home owners',\n",
    "       'car', 'cars', 'No car', 'National Health Service',\n",
    "       'Private Health Service', 'Income < 30.000', 'Income 30-45.000',\n",
    "       'Income 45-75.000', 'Income 75-122.000', 'Income >123.000',\n",
    "       'Average income', 'Purchasing power class',\n",
    "       'Contribution private third party insurance',\n",
    "       'Contribution third party insurance (firms)',\n",
    "       'Contribution third party insurane (agriculture)',\n",
    "       'Contribution car policies', 'Contribution delivery van policies',\n",
    "       'Contribution motorcycle/scooter policies',\n",
    "       'Contribution lorry policies', 'Contribution trailer policies',\n",
    "       'Contribution tractor policies',\n",
    "       'Contribution agricultural machines policies ',\n",
    "       'Contribution moped policies', 'Contribution life insurances',\n",
    "       'Contribution private accident insurance policies',\n",
    "       'Contribution family accidents insurance policies',\n",
    "       'Contribution disability insurance policies',\n",
    "       'Contribution fire policies', 'Contribution surfboard policies',\n",
    "       'Contribution boat policies', 'Contribution bicycle policies',\n",
    "       'Contribution property insurance policies',\n",
    "       'Contribution social security insurance policies',\n",
    "       'Number of private third party insurance',\n",
    "       'Number of third party insurance (firms) ',\n",
    "       'Number of third party insurane (agriculture)',\n",
    "       'Number of car policies', 'Number of delivery van policies',\n",
    "       'Number of motorcycle/scooter policies', 'Number of lorry policies',\n",
    "       'Number of trailer policies', 'Number of tractor policies',\n",
    "       'Number of agricultural machines policies', 'Number of moped policies',\n",
    "       'Number of life insurances',\n",
    "       'Number of private accident insurance policies',\n",
    "       'Number of family accidents insurance policies',\n",
    "       'Number of disability insurance policies', 'Number of fire policies',\n",
    "       'Number of surfboard policies', 'Number of boat policies',\n",
    "       'Number of bicycle policies', 'Number of property insurance policies',\n",
    "       'Number of social security insurance policies']"
   ]
  },
  {
   "cell_type": "code",
   "execution_count": 10,
   "metadata": {},
   "outputs": [
    {
     "data": {
      "text/plain": [
       "0    5474\n",
       "1     348\n",
       "Name: Number of mobile home policies, dtype: int64"
      ]
     },
     "execution_count": 10,
     "metadata": {},
     "output_type": "execute_result"
    }
   ],
   "source": [
    "#check whether dataset is balanced or not.\n",
    "\n",
    "carvana['Number of mobile home policies'].value_counts()\n",
    "\n",
    "\n",
    "#it show that our dataset is not balanced we need to do resampling using SMOTE"
   ]
  },
  {
   "cell_type": "code",
   "execution_count": 11,
   "metadata": {},
   "outputs": [],
   "source": [
    "#Normalization using min max scaler\n",
    "\n",
    "min_max_scaler = preprocessing.MinMaxScaler()"
   ]
  },
  {
   "cell_type": "code",
   "execution_count": 12,
   "metadata": {},
   "outputs": [],
   "source": [
    "X = min_max_scaler.fit_transform(carvana[features])\n",
    "Y = np.vstack(carvana['Number of mobile home policies'].values)"
   ]
  },
  {
   "cell_type": "code",
   "execution_count": 13,
   "metadata": {},
   "outputs": [
    {
     "name": "stdout",
     "output_type": "stream",
     "text": [
      "X, Y input data:  (5822, 85) (5822, 1)\n"
     ]
    }
   ],
   "source": [
    "print('X, Y input data: ' ,X.shape, Y.shape)"
   ]
  },
  {
   "cell_type": "code",
   "execution_count": 14,
   "metadata": {},
   "outputs": [],
   "source": [
    "#split the data into train and test\n",
    "\n",
    "X_train_original, X_test, Y_train_original, Y_test = train_test_split(X,Y,test_size = 0.3,random_state= 42)"
   ]
  },
  {
   "cell_type": "code",
   "execution_count": 15,
   "metadata": {},
   "outputs": [
    {
     "name": "stdout",
     "output_type": "stream",
     "text": [
      "X_train_original:  (4075, 85) X_test:  (1747, 85) Y_train_original:  (4075, 1) Y_test:  (1747, 1)\n"
     ]
    }
   ],
   "source": [
    "print(\"X_train_original: \" ,X_train_original.shape,\n",
    "     \"X_test: \" ,X_test.shape,\n",
    "     \"Y_train_original: \" ,Y_train_original.shape,\n",
    "     \"Y_test: \" ,Y_test.shape)\n"
   ]
  },
  {
   "cell_type": "code",
   "execution_count": 19,
   "metadata": {},
   "outputs": [
    {
     "name": "stdout",
     "output_type": "stream",
     "text": [
      "X_train:  (7692, 85) Y_train:  (7692,)\n",
      "col_0     0     1\n",
      "row_0            \n",
      "0      3846     0\n",
      "1         0  3846\n"
     ]
    },
    {
     "name": "stderr",
     "output_type": "stream",
     "text": [
      "C:\\Users\\Win 10\\AppData\\Local\\Continuum\\anaconda3\\lib\\site-packages\\sklearn\\utils\\validation.py:724: DataConversionWarning: A column-vector y was passed when a 1d array was expected. Please change the shape of y to (n_samples, ), for example using ravel().\n",
      "  y = column_or_1d(y, warn=True)\n"
     ]
    }
   ],
   "source": [
    "#oversampling & undersampling, also called as resampling. it is actually use to create balanced dataset\n",
    "\n",
    "doOversampling = True\n",
    "if doOversampling:\n",
    "    sm = SMOTE(kind = 'regular')\n",
    "    X_train, Y_train = sm.fit_sample(X_train_original, Y_train_original)\n",
    "    print (\"X_train: \" ,X_train.shape,  \"Y_train: \" ,Y_train.shape)\n",
    "    print(pd.crosstab(Y_train,Y_train))\n",
    "else:\n",
    "    X_train = X_train_original\n",
    "    Y_train = Y_train_original"
   ]
  },
  {
   "cell_type": "code",
   "execution_count": 21,
   "metadata": {},
   "outputs": [
    {
     "data": {
      "text/plain": [
       "0    5474\n",
       "1     348\n",
       "Name: Number of mobile home policies, dtype: int64"
      ]
     },
     "execution_count": 21,
     "metadata": {},
     "output_type": "execute_result"
    }
   ],
   "source": [
    "#after done resampling check balanced dataset \n",
    "\n",
    "carvana['Number of mobile home policies'].value_counts()"
   ]
  },
  {
   "cell_type": "code",
   "execution_count": 22,
   "metadata": {},
   "outputs": [
    {
     "name": "stderr",
     "output_type": "stream",
     "text": [
      "C:\\Users\\Win 10\\AppData\\Local\\Continuum\\anaconda3\\lib\\site-packages\\sklearn\\linear_model\\logistic.py:432: FutureWarning: Default solver will be changed to 'lbfgs' in 0.22. Specify a solver to silence this warning.\n",
      "  FutureWarning)\n"
     ]
    },
    {
     "data": {
      "text/plain": [
       "LogisticRegression(C=1.0, class_weight=None, dual=False, fit_intercept=True,\n",
       "                   intercept_scaling=1, l1_ratio=None, max_iter=100,\n",
       "                   multi_class='warn', n_jobs=None, penalty='l2',\n",
       "                   random_state=None, solver='warn', tol=0.0001, verbose=0,\n",
       "                   warm_start=False)"
      ]
     },
     "execution_count": 22,
     "metadata": {},
     "output_type": "execute_result"
    }
   ],
   "source": [
    "model = LogisticRegression()\n",
    "model.fit(X_train, Y_train)"
   ]
  },
  {
   "cell_type": "code",
   "execution_count": 23,
   "metadata": {},
   "outputs": [
    {
     "data": {
      "text/plain": [
       "array([0, 0, 0, ..., 0, 0, 0], dtype=int64)"
      ]
     },
     "execution_count": 23,
     "metadata": {},
     "output_type": "execute_result"
    }
   ],
   "source": [
    "Y_pred = model.predict(X_test)\n",
    "Y_pred"
   ]
  },
  {
   "cell_type": "code",
   "execution_count": 24,
   "metadata": {},
   "outputs": [
    {
     "data": {
      "text/plain": [
       "array([[1183,   47],\n",
       "       [ 445,   72]], dtype=int64)"
      ]
     },
     "execution_count": 24,
     "metadata": {},
     "output_type": "execute_result"
    }
   ],
   "source": [
    "confusion_matrix(Y_pred, Y_test)"
   ]
  },
  {
   "cell_type": "code",
   "execution_count": 25,
   "metadata": {},
   "outputs": [
    {
     "data": {
      "text/plain": [
       "'              precision    recall  f1-score   support\\n\\n           0       0.73      0.96      0.83      1230\\n           1       0.61      0.14      0.23       517\\n\\n    accuracy                           0.72      1747\\n   macro avg       0.67      0.55      0.53      1747\\nweighted avg       0.69      0.72      0.65      1747\\n'"
      ]
     },
     "execution_count": 25,
     "metadata": {},
     "output_type": "execute_result"
    }
   ],
   "source": [
    "classification_report(Y_pred, Y_test)"
   ]
  },
  {
   "cell_type": "code",
   "execution_count": 27,
   "metadata": {},
   "outputs": [
    {
     "data": {
      "text/plain": [
       "0.7183743560389239"
      ]
     },
     "execution_count": 27,
     "metadata": {},
     "output_type": "execute_result"
    }
   ],
   "source": [
    "accuracy_score(Y_pred, Y_test)  ##we got 71% accuracy with logistic model"
   ]
  },
  {
   "cell_type": "code",
   "execution_count": 39,
   "metadata": {},
   "outputs": [
    {
     "data": {
      "text/plain": [
       "RandomForestClassifier(bootstrap=True, class_weight=None, criterion='gini',\n",
       "                       max_depth=15, max_features='auto', max_leaf_nodes=None,\n",
       "                       min_impurity_decrease=0.0, min_impurity_split=None,\n",
       "                       min_samples_leaf=1, min_samples_split=2,\n",
       "                       min_weight_fraction_leaf=0.0, n_estimators=500,\n",
       "                       n_jobs=None, oob_score=False, random_state=42, verbose=0,\n",
       "                       warm_start=False)"
      ]
     },
     "execution_count": 39,
     "metadata": {},
     "output_type": "execute_result"
    }
   ],
   "source": [
    "#now we perform classification using Random Forest\n",
    "\n",
    "model_RF = RandomForestClassifier(n_estimators=500,max_depth=15,max_features='auto',random_state=42)\n",
    "model_RF.fit(X_train,Y_train)"
   ]
  },
  {
   "cell_type": "code",
   "execution_count": 40,
   "metadata": {},
   "outputs": [],
   "source": [
    "Y_RF_pred = model_RF.predict(X_test)"
   ]
  },
  {
   "cell_type": "code",
   "execution_count": 41,
   "metadata": {},
   "outputs": [
    {
     "data": {
      "text/plain": [
       "0.9089868345735547"
      ]
     },
     "execution_count": 41,
     "metadata": {},
     "output_type": "execute_result"
    }
   ],
   "source": [
    "accuracy_score(Y_RF_pred, Y_test)"
   ]
  },
  {
   "cell_type": "code",
   "execution_count": 43,
   "metadata": {},
   "outputs": [
    {
     "data": {
      "text/plain": [
       "'              precision    recall  f1-score   support\\n\\n           0       0.97      0.94      0.95      1685\\n           1       0.09      0.18      0.12        62\\n\\n    accuracy                           0.91      1747\\n   macro avg       0.53      0.56      0.54      1747\\nweighted avg       0.94      0.91      0.92      1747\\n'"
      ]
     },
     "execution_count": 43,
     "metadata": {},
     "output_type": "execute_result"
    }
   ],
   "source": [
    "classification_report(Y_RF_pred, Y_test)"
   ]
  },
  {
   "cell_type": "code",
   "execution_count": 61,
   "metadata": {},
   "outputs": [
    {
     "name": "stdout",
     "output_type": "stream",
     "text": [
      "accuracy:  0.9089868345735547 kappa score:  0.07854676216035117 precision & recall:  (array([0.03548941, 0.09243697, 1.        ]), array([1.        , 0.17741935, 0.        ]), array([0, 1], dtype=int64))\n"
     ]
    }
   ],
   "source": [
    "print('accuracy: ' ,accuracy_score(Y_RF_pred,Y_test),\n",
    "      'kappa score: ' ,kappa(Y_RF_pred, Y_test),\n",
    "      'precision & recall: ' ,precision_recall_curve(Y_RF_pred, Y_test))\n",
    "       "
   ]
  },
  {
   "cell_type": "code",
   "execution_count": 58,
   "metadata": {},
   "outputs": [
    {
     "data": {
      "text/plain": [
       "DecisionTreeClassifier(class_weight=None, criterion='entropy', max_depth=10,\n",
       "                       max_features=2, max_leaf_nodes=None,\n",
       "                       min_impurity_decrease=0.0, min_impurity_split=None,\n",
       "                       min_samples_leaf=1, min_samples_split=2,\n",
       "                       min_weight_fraction_leaf=0.0, presort=False,\n",
       "                       random_state=None, splitter='best')"
      ]
     },
     "execution_count": 58,
     "metadata": {},
     "output_type": "execute_result"
    }
   ],
   "source": [
    "model_DT_model = DecisionTreeClassifier(criterion = \"entropy\", splitter = \"best\", max_depth = 10,  min_samples_split = 2,\n",
    "                              min_samples_leaf = 1, max_features = 2)\n",
    "\n",
    "model_DT_model.fit(X_train,Y_train)\n"
   ]
  },
  {
   "cell_type": "code",
   "execution_count": 59,
   "metadata": {},
   "outputs": [],
   "source": [
    "Y_DT_pred = model_DT_model.predict(X_test)"
   ]
  },
  {
   "cell_type": "code",
   "execution_count": 62,
   "metadata": {},
   "outputs": [
    {
     "data": {
      "text/plain": [
       "0.7212364052661706"
      ]
     },
     "execution_count": 62,
     "metadata": {},
     "output_type": "execute_result"
    }
   ],
   "source": [
    "accuracy_score(Y_DT_pred, Y_test)"
   ]
  },
  {
   "cell_type": "code",
   "execution_count": 64,
   "metadata": {},
   "outputs": [
    {
     "name": "stdout",
     "output_type": "stream",
     "text": [
      "accuracy:  0.7212364052661706 kappa score:  0.024160036152883535 precision & recall:  (array([0.25186033, 0.30252101, 1.        ]), array([1.        , 0.08181818, 0.        ]), array([0, 1], dtype=int64))\n"
     ]
    }
   ],
   "source": [
    "print('accuracy: ' ,accuracy_score(Y_DT_pred,Y_test),\n",
    "      'kappa score: ' ,kappa(Y_DT_pred, Y_test),\n",
    "      'precision & recall: ' ,precision_recall_curve(Y_DT_pred, Y_test))"
   ]
  },
  {
   "cell_type": "code",
   "execution_count": null,
   "metadata": {},
   "outputs": [],
   "source": [
    "#Random Forest gives us the best accuracy."
   ]
  }
 ],
 "metadata": {
  "kernelspec": {
   "display_name": "Python 3",
   "language": "python",
   "name": "python3"
  },
  "language_info": {
   "codemirror_mode": {
    "name": "ipython",
    "version": 3
   },
   "file_extension": ".py",
   "mimetype": "text/x-python",
   "name": "python",
   "nbconvert_exporter": "python",
   "pygments_lexer": "ipython3",
   "version": "3.7.3"
  }
 },
 "nbformat": 4,
 "nbformat_minor": 2
}
